{
 "cells": [
  {
   "cell_type": "markdown",
   "id": "66a3ef44",
   "metadata": {},
   "source": [
    "# jupyter notebook instruction\n",
    "* Shift + Enter means running the current cell and cursor moves to the next cell.\n",
    "* If you press Enter key, it goes back to edit mode.\n",
    "* 'a' means adding a cell above.\n",
    "* 'b' means adding a cell below.\n",
    "* 'd' means deleting the current cell.\n",
    "* 'm' means switching to document cell.\n",
    "* 'y' means switching to code cell.\n",
    "\n",
    "\n",
    "## What is Markdown?\n",
    "* you can documentate as you write code\n",
    "\n",
    "````\n",
    "when you want to use multi-line \n",
    "````"
   ]
  },
  {
   "cell_type": "code",
   "execution_count": 1,
   "id": "96417e37",
   "metadata": {},
   "outputs": [
    {
     "name": "stdout",
     "output_type": "stream",
     "text": [
      "Hello World!\n"
     ]
    }
   ],
   "source": [
    "print(\"Hello World!\")"
   ]
  },
  {
   "cell_type": "code",
   "execution_count": 2,
   "id": "50b088c2",
   "metadata": {},
   "outputs": [
    {
     "data": {
      "text/plain": [
       "3"
      ]
     },
     "execution_count": 2,
     "metadata": {},
     "output_type": "execute_result"
    }
   ],
   "source": [
    "a = 1\n",
    "b = 2\n",
    "a + b"
   ]
  },
  {
   "cell_type": "code",
   "execution_count": null,
   "id": "3cbf0689",
   "metadata": {},
   "outputs": [],
   "source": []
  }
 ],
 "metadata": {
  "kernelspec": {
   "display_name": "Python 3 (ipykernel)",
   "language": "python",
   "name": "python3"
  },
  "language_info": {
   "codemirror_mode": {
    "name": "ipython",
    "version": 3
   },
   "file_extension": ".py",
   "mimetype": "text/x-python",
   "name": "python",
   "nbconvert_exporter": "python",
   "pygments_lexer": "ipython3",
   "version": "3.9.12"
  }
 },
 "nbformat": 4,
 "nbformat_minor": 5
}
